{
 "cells": [
  {
   "cell_type": "code",
   "execution_count": 19,
   "metadata": {},
   "outputs": [
    {
     "name": "stderr",
     "output_type": "stream",
     "text": [
      "[nltk_data] Downloading package stopwords to\n",
      "[nltk_data]     /home/akshitaggarwal/nltk_data...\n",
      "[nltk_data]   Package stopwords is already up-to-date!\n"
     ]
    }
   ],
   "source": [
    "import praw\n",
    "import pandas as pd\n",
    "import datetime as dt\n",
    "import nltk\n",
    "nltk.download('stopwords')\n",
    "from nltk.corpus import stopwords\n",
    "import re\n",
    "from bs4 import BeautifulSoup"
   ]
  },
  {
   "cell_type": "markdown",
   "metadata": {},
   "source": [
    "# Setting up Reddit AuthO"
   ]
  },
  {
   "cell_type": "code",
   "execution_count": 11,
   "metadata": {},
   "outputs": [],
   "source": [
    "reddit = praw.Reddit(client_id='WK7Bb4kSnRez8g',\n",
    "                     client_secret='NYWBOS04ouTSPO0cKhsMLqs-SWQ',\n",
    "                     user_agent='Reddit_India_Data')\n",
    "india_subreddit = reddit.subreddit('india')"
   ]
  },
  {
   "cell_type": "code",
   "execution_count": 12,
   "metadata": {},
   "outputs": [],
   "source": [
    "flairs = [\"AskIndia\", \"Non-Political\", \"[R]eddiquette\", \"Scheduled\", \"Photography\", \"Science/Technology\", \"Politics\", \"Business/Finance\", \"Policy/Economy\", \"Sports\", \"Food\", \"AMA\"]\n",
    "post_dict = []"
   ]
  },
  {
   "cell_type": "code",
   "execution_count": 15,
   "metadata": {},
   "outputs": [],
   "source": [
    "def readableTime(created):\n",
    "    return dt.datetime.utcfromtimestamp(created)\n",
    "\n",
    "\n",
    "#To convert data elements into string objects\n",
    "def toStr(item):\n",
    "    return str(item)\n",
    "\n",
    "_replace = re.compile('[/(){}\\|@,;]')\n",
    "badSymbols = re.compile('[^0-9a-z #+_]')\n",
    "stopWords = set(stopwords.words('english'))\n",
    "\n",
    "#To clean text within dataset\n",
    "def cleanText(string):\n",
    "    string = BeautifulSoup(string, \"lxml\").string\n",
    "    string = string.lower() \n",
    "    string = _replace.sub(' ', string)\n",
    "    string = badSymbols.sub('', string)\n",
    "    string = ' '.join(word for word in string.split() if word not in stopWords)\n",
    "    return string"
   ]
  },
  {
   "cell_type": "code",
   "execution_count": 14,
   "metadata": {},
   "outputs": [],
   "source": [
    "for flair in flairs:\n",
    "    submissions = india_subreddit.search(f\"flair_name:{flair}\",limit=100)\n",
    "    for submission in submissions:\n",
    "        post_dict.append([submission.title,\n",
    "                submission.id,\n",
    "                submission.link_flair_text,\n",
    "                submission.author,\n",
    "                submission.url,\n",
    "                submission.num_comments,\n",
    "                submission.score,\n",
    "                submission.created])\n",
    "post_dict = pd.DataFrame(post_dict,columns=['title', 'id', 'flair', 'author', 'url', 'num_comments', 'score', 'created'])\n",
    "topics = pd.DataFrame(post_dict)\n",
    "#Sorting data based in ascending order of flair\n",
    "topics.sort_values('flair', inplace=True)\n",
    "#Changing Unix time to UTC time.\n",
    "topics['timestamp'] = topics['created'].apply(readableTime)\n",
    "del topics['created']\n",
    "#Deleting any duplicate rows\n",
    "topics.drop_duplicates(subset=None, inplace=True)\n",
    "topics.to_csv('Data.csv', index=False)"
   ]
  },
  {
   "cell_type": "markdown",
   "metadata": {},
   "source": [
    "# DB Cleaning and Text Pre Processing"
   ]
  },
  {
   "cell_type": "code",
   "execution_count": 18,
   "metadata": {},
   "outputs": [],
   "source": [
    "df = pd.read_csv('Data.csv')\n",
    "df.head()\n",
    "df['title'] =df['title'].apply(toStr)\n",
    "df['title'] =df['title'].apply(cleanText)\n",
    "feature_Grp = df['title'] + df['url']\n",
    "df = df.assign(feature_Grp = feature_Grp)\n",
    "df.to_csv('Final_formatted_data.csv', index=False)"
   ]
  }
 ],
 "metadata": {
  "kernelspec": {
   "display_name": "'Python Interactive'",
   "language": "python",
   "name": "f37af5b1-c3b4-4d3e-961b-f97293be30a4"
  },
  "language_info": {
   "codemirror_mode": {
    "name": "ipython",
    "version": 3
   },
   "file_extension": ".py",
   "mimetype": "text/x-python",
   "name": "python",
   "nbconvert_exporter": "python",
   "pygments_lexer": "ipython3",
   "version": "3.6.8"
  }
 },
 "nbformat": 4,
 "nbformat_minor": 2
}

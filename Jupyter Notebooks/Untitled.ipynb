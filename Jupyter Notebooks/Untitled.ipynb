{
 "cells": [
  {
   "cell_type": "code",
   "execution_count": 2,
   "metadata": {},
   "outputs": [],
   "source": [
    "import praw\n",
    "import csv\n",
    "import datetime as dt\n",
    "import pandas as pd"
   ]
  },
  {
   "cell_type": "code",
   "execution_count": 4,
   "metadata": {},
   "outputs": [],
   "source": [
    "reddit = praw.Reddit(client_id='WK7Bb4kSnRez8g',\n",
    "                     client_secret='NYWBOS04ouTSPO0cKhsMLqs-SWQ',\n",
    "                     user_agent='Reddit_India_Data')\n",
    "india_subreddit = reddit.subreddit('India')\n",
    "posts = []"
   ]
  },
  {
   "cell_type": "code",
   "execution_count": 14,
   "metadata": {},
   "outputs": [],
   "source": [
    "for post in india_subreddit.top(limit=100):\n",
    "    posts.append([\n",
    "        post.title,\n",
    "        post.id,\n",
    "        post.link_flair_text,\n",
    "        post.author,\n",
    "        post.url,\n",
    "        post.num_comments,\n",
    "        post.score,\n",
    "        post.created])\n",
    "posts = pd.DataFrame(posts,columns=['title', 'id', 'flair', 'author', 'url', 'num_comments', 'score', 'created'])\n",
    "posts.sort_values('flair', inplace=True)\n",
    "posts.to_csv('Reddit_India.csv', index=False)"
   ]
  },
  {
   "cell_type": "code",
   "execution_count": null,
   "metadata": {},
   "outputs": [],
   "source": []
  }
 ],
 "metadata": {
  "kernelspec": {
   "display_name": "Python 3",
   "language": "python",
   "name": "python3"
  },
  "language_info": {
   "codemirror_mode": {
    "name": "ipython",
    "version": 3
   },
   "file_extension": ".py",
   "mimetype": "text/x-python",
   "name": "python",
   "nbconvert_exporter": "python",
   "pygments_lexer": "ipython3",
   "version": "3.6.8"
  }
 },
 "nbformat": 4,
 "nbformat_minor": 2
}

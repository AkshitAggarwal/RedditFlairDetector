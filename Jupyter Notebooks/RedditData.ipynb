{
 "cells": [
  {
   "cell_type": "code",
   "execution_count": 10,
   "metadata": {},
   "outputs": [],
   "source": [
    "import praw\n",
    "import pandas as pd\n",
    "import datetime as dt"
   ]
  },
  {
   "cell_type": "code",
   "execution_count": 11,
   "metadata": {},
   "outputs": [],
   "source": [
    "reddit = praw.Reddit(client_id='WK7Bb4kSnRez8g',\n",
    "                     client_secret='NYWBOS04ouTSPO0cKhsMLqs-SWQ',\n",
    "                     user_agent='Reddit_India_Data')\n",
    "india_subreddit = reddit.subreddit('india')"
   ]
  },
  {
   "cell_type": "code",
   "execution_count": 17,
   "metadata": {},
   "outputs": [],
   "source": [
    "flairs = [\"AskIndia\", \"Non-Political\", \"[R]eddiquette\", \"Scheduled\", \"Photography\", \"Science/Technology\", \"Politics\", \"Business/Finance\", \"Policy/Economy\", \"Sports\", \"Food\", \"AMA\"]\n",
    "post_dict = []"
   ]
  },
  {
   "cell_type": "code",
   "execution_count": 40,
   "metadata": {},
   "outputs": [],
   "source": [
    "for flair in flairs:\n",
    "    submissions = india_subreddit.search(flair, limit=100)\n",
    "    for submission in submissions:\n",
    "        post_dict.append([submission.title,\n",
    "                submission.id,\n",
    "                submission.link_flair_text,\n",
    "                submission.author,\n",
    "                submission.url,\n",
    "                submission.num_comments,\n",
    "                submission.score,\n",
    "                submission.created])\n",
    "post_dict = pd.DataFrame(post_dict,columns=['title', 'id', 'flair', 'author', 'url', 'num_comments', 'score', 'created'])\n",
    "topics = pd.DataFrame(post_dict)\n",
    "topics.sort_values('flair', inplace=True)\n",
    "topics.to_csv('Data.csv', index=False)"
   ]
  },
  {
   "cell_type": "code",
   "execution_count": null,
   "metadata": {},
   "outputs": [],
   "source": []
  }
 ],
 "metadata": {
  "kernelspec": {
   "display_name": "'Python Interactive'",
   "language": "python",
   "name": "f37af5b1-c3b4-4d3e-961b-f97293be30a4"
  },
  "language_info": {
   "codemirror_mode": {
    "name": "ipython",
    "version": 3
   },
   "file_extension": ".py",
   "mimetype": "text/x-python",
   "name": "python",
   "nbconvert_exporter": "python",
   "pygments_lexer": "ipython3",
   "version": "3.6.8"
  }
 },
 "nbformat": 4,
 "nbformat_minor": 2
}
